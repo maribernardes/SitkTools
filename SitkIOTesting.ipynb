{
 "cells": [
  {
   "cell_type": "code",
   "execution_count": null,
   "metadata": {},
   "outputs": [],
   "source": [
    "import sys\n",
    "import os\n",
    "import SimpleITK as sitk\n",
    "\n",
    "current_directory = os.getcwd()\n",
    "path = os.path.dirname(current_directory)\n",
    "sys.path.append(path)\n",
    "from sitkTools import show_image\n",
    "\n",
    "%matplotlib widget\n",
    "from ipywidgets import interact, interactive, widgets\n",
    "from matplotlib.patches import Rectangle, Circle, Arrow"
   ]
  },
  {
   "cell_type": "markdown",
   "metadata": {},
   "source": [
    "# Set paths and files"
   ]
  },
  {
   "cell_type": "code",
   "execution_count": null,
   "metadata": {},
   "outputs": [],
   "source": [
    "import glob\n",
    "import os\n",
    "\n",
    "# import numpy as np\n",
    "import matplotlib.pyplot as plt\n",
    "from typing import Optional, Any, Mapping, Hashable\n",
    "\n",
    "import monai\n",
    "from monai.transforms import (\n",
    "    Compose,\n",
    "    EnsureChannelFirst,\n",
    "    EnsureChannelFirstd,\n",
    "    Orientationd\n",
    ")\n",
    "from sitkMonaiIO import LoadSitkImage, LoadSitkImaged, PushSitkImage, PushSitkImaged\n",
    "\n",
    "# Image files\n",
    "file_list = sorted(glob.glob(os.path.join(current_directory, '*.nii.gz')))\n",
    "selected_file = file_list[0]\n",
    "\n",
    "sitk_loaded = sitk.ReadImage(selected_file, sitk.sitkFloat32)\n",
    "print('SimpleITK object sizes')\n",
    "print(sitk_loaded.GetSize())\n",
    "show_image(sitk_loaded, 'Sitk from file')\n",
    "\n",
    "# Create dictionary for images\n",
    "sitk_dict = {'image': sitk_loaded}\n",
    "\n",
    "# Use LoadSitkImage to obtain metatensors from sitk\n",
    "loadSitk = Compose([LoadSitkImaged(keys=['image'], image_only=True),\n",
    "                   EnsureChannelFirstd(keys=['image']),\n",
    "                   Orientationd(keys=['image'], axcodes='PIL')\n",
    "                   ])\n",
    "metatensor = loadSitk(sitk_dict)\n",
    "print('Metatensor sizes')\n",
    "print(metatensor['image'].shape)\n",
    "    \n",
    "# Use PushSitkImage to obtain sitk from metatensors\n",
    "pushSitk = Compose([PushSitkImaged(keys=['image'], resample=True, print_log=False)])\n",
    "sitk_output = pushSitk(metatensor)\n",
    "print(sitk_output['image'].GetSize())\n",
    "show_image(sitk_output['image'], 'Sitk from metatensor')"
   ]
  }
 ],
 "metadata": {
  "kernelspec": {
   "display_name": "pytorch_m1",
   "language": "python",
   "name": "python3"
  },
  "language_info": {
   "codemirror_mode": {
    "name": "ipython",
    "version": 3
   },
   "file_extension": ".py",
   "mimetype": "text/x-python",
   "name": "python",
   "nbconvert_exporter": "python",
   "pygments_lexer": "ipython3",
   "version": "3.9.13"
  }
 },
 "nbformat": 4,
 "nbformat_minor": 2
}
